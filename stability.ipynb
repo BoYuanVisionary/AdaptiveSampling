{
 "cells": [
  {
   "cell_type": "code",
   "execution_count": null,
   "metadata": {},
   "outputs": [],
   "source": [
    "# Define a function that generates samples approximate RGO. The target is defined in Potential class.\n",
    "import numpy as np\n",
    "import matplotlib.pyplot as plt\n",
    "import targets\n",
    "import cProfile\n",
    "import pstats\n",
    "import random\n",
    "import argparse\n",
    "import os\n",
    "from utils import target_func, mixing_time, TV_estimation, target_funnel\n",
    "import matplotlib.ticker as ticker\n"
   ]
  },
  {
   "cell_type": "code",
   "execution_count": null,
   "metadata": {},
   "outputs": [],
   "source": [
    "\n",
    "def estimate_step_size(step_size, tolerance, y, f, size = 10):\n",
    "    dimension = f.dimension\n",
    "    # Compute the desired subexponential parameter\n",
    "    x_y = f.solve1(y, step_size)\n",
    "    testFunction = lambda C : np.mean(np.exp(np.abs(Y)**(2/(1+f.alpha))/C))-2\n",
    "    while True:\n",
    "        # Generate random samples from a Gaussian distribution: \\exp^{-(x-x_y)^2/(2\\step_size)}\n",
    "        samples = np.random.multivariate_normal(mean = x_y, cov = step_size * np.identity(dimension), size = size*2)\n",
    "        Y = np.zeros(size)\n",
    "        for i in range(size):\n",
    "            gradient = f.firstOrder(x_y)\n",
    "            a = f.zeroOrder(samples[i])-np.dot(gradient,samples[i])\n",
    "            b = f.zeroOrder(samples[i+size])-np.dot(gradient,samples[i+size])\n",
    "            Y[i] = b-a\n",
    "        # Estimate the subexponential parameter of Y: find the smallest C>0 such that E[\\exp^{\\abs(Y)/C}] \\leq 2 by binary search for smooth potentials\n",
    "        # Initialize the interval\n",
    "        left = 0\n",
    "        right = dimension**(f.alpha/(f.alpha+1)) # The estimated upper bound of the subexponential parameter\n",
    "        while testFunction(right)>0:\n",
    "            left = right\n",
    "            right = 2*right\n",
    "        # Initialize the middle point\n",
    "        mid = (left+right)/2\n",
    "        # Initialize the value of the function\n",
    "        f_mid = testFunction(mid)\n",
    "        while abs(f_mid) > 1e-1:\n",
    "            if f_mid > 0:\n",
    "                left = mid\n",
    "            else:\n",
    "                right = mid\n",
    "            mid = (left+right)/2\n",
    "            f_mid =  testFunction(mid)\n",
    "        if mid < 1 / ( np.log(6/tolerance) / np.log(2)  * 0.5) : # 0.5\n",
    "            break\n",
    "        else:\n",
    "            step_size = step_size / 2\n",
    "            x_y = f.solve1(y, step_size)\n",
    "    return step_size, x_y"
   ]
  }
 ],
 "metadata": {
  "language_info": {
   "name": "python"
  }
 },
 "nbformat": 4,
 "nbformat_minor": 2
}
